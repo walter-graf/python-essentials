{
 "cells": [
  {
   "cell_type": "markdown",
   "metadata": {},
   "source": [
    "# Essential Python Features\n",
    "## Function Calls"
   ]
  },
  {
   "cell_type": "code",
   "execution_count": 1,
   "metadata": {},
   "outputs": [
    {
     "name": "stdout",
     "output_type": "stream",
     "text": [
      "inside f: x,y = 1 5\n",
      "inside f: x,y = 10 50\n",
      "inside f: x,y = 100 500\n",
      "inside f: x,y = 1 500\n"
     ]
    }
   ],
   "source": [
    "def f(x=1,y=5):\n",
    "    print('inside f: x,y =', x, y)\n",
    "\n",
    "f()\n",
    "f(10,50)\n",
    "f(y=500,x=100)\n",
    "f(y=500)"
   ]
  },
  {
   "cell_type": "markdown",
   "metadata": {},
   "source": [
    "In the following example the function _f()_ accepts any number of arguments:"
   ]
  },
  {
   "cell_type": "code",
   "execution_count": 2,
   "metadata": {},
   "outputs": [
    {
     "name": "stdout",
     "output_type": "stream",
     "text": [
      "inside f: args = 1  2  3  4  5  \n",
      "inside f: args = a  b  c  d  e  \n",
      "inside f: args = Walter  Graf  19  3  1960  \n",
      "inside f: args = 1  [0, 1, 2]  \n"
     ]
    }
   ],
   "source": [
    "def f(*n):\n",
    "    print('inside f: args = ', end='')\n",
    "    for i in range(len(n)):\n",
    "        print(n[i],' ', end='')\n",
    "    print()\n",
    "\n",
    "f(1,2,3,4,5)\n",
    "f('a','b','c','d','e')\n",
    "f('Walter', 'Graf', 19, 3, 1960)\n",
    "\n",
    "l = [0, 1, 2]\n",
    "f(1, l)"
   ]
  },
  {
   "cell_type": "markdown",
   "metadata": {},
   "source": [
    "In the following example the function _f()_ takes positional arguments and passes them on as a dictionary:"
   ]
  },
  {
   "cell_type": "code",
   "execution_count": 3,
   "metadata": {},
   "outputs": [
    {
     "name": "stdout",
     "output_type": "stream",
     "text": [
      "inside f: args =  {'p1': 1, 'p2': 2, 'p3': 3}"
     ]
    }
   ],
   "source": [
    "def f(**args):\n",
    "    print('inside f: args = ', args, end='')\n",
    "\n",
    "f(p1=1, p2=2, p3=3)"
   ]
  },
  {
   "cell_type": "markdown",
   "metadata": {},
   "source": [
    "Please note: all arguments must be given as positional parameters, otherwise an error will occur:"
   ]
  },
  {
   "cell_type": "code",
   "execution_count": 4,
   "metadata": {},
   "outputs": [
    {
     "ename": "TypeError",
     "evalue": "f() takes 0 positional arguments but 2 were given",
     "output_type": "error",
     "traceback": [
      "\u001b[1;31m---------------------------------------------------------------------------\u001b[0m",
      "\u001b[1;31mTypeError\u001b[0m                                 Traceback (most recent call last)",
      "\u001b[1;32m<ipython-input-4-9fff32e4c4d7>\u001b[0m in \u001b[0;36m<module>\u001b[1;34m\u001b[0m\n\u001b[1;32m----> 1\u001b[1;33m \u001b[0mf\u001b[0m\u001b[1;33m(\u001b[0m\u001b[1;36m1\u001b[0m\u001b[1;33m,\u001b[0m \u001b[1;36m2\u001b[0m\u001b[1;33m,\u001b[0m \u001b[0mp3\u001b[0m\u001b[1;33m=\u001b[0m\u001b[1;36m3\u001b[0m\u001b[1;33m)\u001b[0m\u001b[1;33m\u001b[0m\u001b[1;33m\u001b[0m\u001b[0m\n\u001b[0m",
      "\u001b[1;31mTypeError\u001b[0m: f() takes 0 positional arguments but 2 were given"
     ]
    }
   ],
   "source": [
    "f(1, 2, p3=3)"
   ]
  },
  {
   "cell_type": "markdown",
   "metadata": {},
   "source": [
    "## Namespaces"
   ]
  },
  {
   "cell_type": "code",
   "execution_count": 5,
   "metadata": {},
   "outputs": [
    {
     "name": "stdout",
     "output_type": "stream",
     "text": [
      "inside f: g = I am local g66 = 0\n",
      "g = I am global g66 = 66\n"
     ]
    }
   ],
   "source": [
    "g = 'I am global'\n",
    "g66 = 66\n",
    "\n",
    "def f():\n",
    "    g = 'I am local'\n",
    "    g66 = 0\n",
    "    print('inside f: g =',g, 'g66 =',g66)\n",
    "\n",
    "f()\n",
    "print('g =',g, 'g66 =',g66)"
   ]
  },
  {
   "cell_type": "markdown",
   "metadata": {},
   "source": [
    "However, global variables can easily be accessed inside _f()_ :"
   ]
  },
  {
   "cell_type": "code",
   "execution_count": 6,
   "metadata": {},
   "outputs": [
    {
     "name": "stdout",
     "output_type": "stream",
     "text": [
      "inside f: g = I am global g66 = 66\n"
     ]
    }
   ],
   "source": [
    "g = 'I am global'\n",
    "g66 = 66\n",
    "\n",
    "def f():\n",
    "    print('inside f: g =',g, 'g66 =',g66)\n",
    "\n",
    "f()"
   ]
  },
  {
   "cell_type": "markdown",
   "metadata": {},
   "source": [
    "## Access to Class Variables"
   ]
  },
  {
   "cell_type": "code",
   "execution_count": 7,
   "metadata": {},
   "outputs": [],
   "source": [
    "var0 = 666\n",
    "\n",
    "class C:\n",
    "    var0 = var0\n",
    "    _var1 = 111\n",
    "    def __init__(self,var2,var3):\n",
    "        self.var2 = var2\n",
    "        self.__var3 = var3\n",
    "    def access_var3(self):\n",
    "        return self.__var3\n",
    "\n",
    "c = C(222,333)"
   ]
  },
  {
   "cell_type": "markdown",
   "metadata": {},
   "source": [
    "Pease note that the assignment *var0 = var0* in the class definition looks odd. Nevertheless the left side will later be referenced as *self.var0* while the right side references the global variable *var0*\n",
    "\n",
    "\n",
    "Now, let's see how we can access the class variables:"
   ]
  },
  {
   "cell_type": "code",
   "execution_count": 8,
   "metadata": {},
   "outputs": [
    {
     "name": "stdout",
     "output_type": "stream",
     "text": [
      "c.var0  666\n",
      "c._var1 111\n",
      "c.var2  222\n"
     ]
    },
    {
     "ename": "AttributeError",
     "evalue": "'C' object has no attribute '__var3'",
     "output_type": "error",
     "traceback": [
      "\u001b[1;31m---------------------------------------------------------------------------\u001b[0m",
      "\u001b[1;31mAttributeError\u001b[0m                            Traceback (most recent call last)",
      "\u001b[1;32m<ipython-input-8-ce6e1d7d5fc9>\u001b[0m in \u001b[0;36m<module>\u001b[1;34m\u001b[0m\n\u001b[0;32m      2\u001b[0m \u001b[0mprint\u001b[0m\u001b[1;33m(\u001b[0m\u001b[1;34m'c._var1'\u001b[0m\u001b[1;33m,\u001b[0m\u001b[0mc\u001b[0m\u001b[1;33m.\u001b[0m\u001b[0m_var1\u001b[0m\u001b[1;33m)\u001b[0m\u001b[1;33m\u001b[0m\u001b[1;33m\u001b[0m\u001b[0m\n\u001b[0;32m      3\u001b[0m \u001b[0mprint\u001b[0m\u001b[1;33m(\u001b[0m\u001b[1;34m'c.var2 '\u001b[0m\u001b[1;33m,\u001b[0m\u001b[0mc\u001b[0m\u001b[1;33m.\u001b[0m\u001b[0mvar2\u001b[0m\u001b[1;33m)\u001b[0m\u001b[1;33m\u001b[0m\u001b[1;33m\u001b[0m\u001b[0m\n\u001b[1;32m----> 4\u001b[1;33m \u001b[0mprint\u001b[0m\u001b[1;33m(\u001b[0m\u001b[1;34m'c.__var3'\u001b[0m\u001b[1;33m,\u001b[0m\u001b[0mc\u001b[0m\u001b[1;33m.\u001b[0m\u001b[0m__var3\u001b[0m\u001b[1;33m)\u001b[0m\u001b[1;33m\u001b[0m\u001b[1;33m\u001b[0m\u001b[0m\n\u001b[0m",
      "\u001b[1;31mAttributeError\u001b[0m: 'C' object has no attribute '__var3'"
     ]
    }
   ],
   "source": [
    "print('c.var0 ',c.var0)\n",
    "print('c._var1',c._var1)\n",
    "print('c.var2 ',c.var2)\n",
    "print('c.__var3',c.__var3)"
   ]
  },
  {
   "cell_type": "markdown",
   "metadata": {},
   "source": [
    "Please note:  \n",
    "***var0*** and ***_var1*** are initialised the same way for all instances, while ***var2*** and ***__var3*** are initialised individually by every instance (like in c = C(222,333))  \n",
    "***_var1*** is supposed to be private, but privacy is **not** enforced__  \n",
    "However, privacy of ***\\_var3*** is **indeed** enforced, but can be circumvented by a specific access method:"
   ]
  },
  {
   "cell_type": "code",
   "execution_count": 9,
   "metadata": {},
   "outputs": [
    {
     "name": "stdout",
     "output_type": "stream",
     "text": [
      "333\n"
     ]
    }
   ],
   "source": [
    "print(c.access_var3())"
   ]
  },
  {
   "cell_type": "markdown",
   "metadata": {},
   "source": [
    "## Pointers, References, and Values in Python\n",
    "\n",
    "Although pointers do not explicitely exist in Python like for example in C, they do exist so to speak *under the hood*. In fact every veriable in Python is basically a pointer. The function *id()* makes this visible:"
   ]
  },
  {
   "cell_type": "code",
   "execution_count": 10,
   "metadata": {},
   "outputs": [
    {
     "name": "stdout",
     "output_type": "stream",
     "text": [
      "i = 111 id = 140732174509152\n",
      "f = 222.222 id = 2786046740656\n",
      "z = (333+333j) id = 2786046741072\n",
      "s = String id = 2786006488240\n",
      "l = [0, 1, 2, 'short', 'list'] id = 2786047697216\n",
      "t = (10, 20, 30) id = 2786046500352\n",
      "d = {'a': 0, 'b': 1, 'c': 2} id = 2786047697600\n",
      "c = <__main__.C object at 0x00000288AD545520> id = 2786046792992\n"
     ]
    }
   ],
   "source": [
    "class C():\n",
    "    i = 11\n",
    "    l = [10, 11, 12, [20, 21, 22]]\n",
    "    \n",
    "i = 111\n",
    "f = 222.222\n",
    "z = 333 + 333j\n",
    "s = 'String'\n",
    "l = [0, 1, 2, 'short', 'list']\n",
    "t = (10, 20, 30)\n",
    "d = {'a':0, 'b':1, 'c':2}\n",
    "c = C()\n",
    "\n",
    "print('i =', i, 'id =', id(i))\n",
    "print('f =', f, 'id =', id(f))\n",
    "print('z =', z, 'id =', id(z))\n",
    "print('s =', s, 'id =', id(s))\n",
    "print('l =', l, 'id =', id(l))\n",
    "print('t =', t, 'id =', id(t))\n",
    "print('d =', d, 'id =', id(d))\n",
    "print('c =', c, 'id =', id(c))"
   ]
  },
  {
   "cell_type": "markdown",
   "metadata": {},
   "source": [
    "This becomes even more obvious when we assign these variable to other variables:"
   ]
  },
  {
   "cell_type": "code",
   "execution_count": 11,
   "metadata": {},
   "outputs": [
    {
     "name": "stdout",
     "output_type": "stream",
     "text": [
      "i = 111 id = 140732174509152\n",
      "f = 222.222 id = 2786046739280\n",
      "z = (333+333j) id = 2786046740336\n",
      "s = String id = 2786006488240\n",
      "l = [0, 1, 2, 'short', 'list'] id = 2786046720960\n",
      "t = (10, 20, 30) id = 2786047671424\n",
      "d = {'a': 0, 'b': 1, 'c': 2} id = 2786046718784\n",
      "c = <__main__.C object at 0x00000288AD624610> id = 2786047706640\n",
      "i1 = 111 id = 140732174509152\n",
      "f1 = 222.222 id = 2786046739280\n",
      "z1 = (333+333j) id = 2786046740336\n",
      "s1 = String id = 2786006488240\n",
      "l1 = [0, 1, 2, 'short', 'list'] id = 2786046720960\n",
      "t1 = (10, 20, 30) id = 2786047671424\n",
      "d1 = {'a': 0, 'b': 1, 'c': 2} id = 2786046718784\n",
      "c1 = <__main__.C object at 0x00000288AD624610> id = 2786047706640\n"
     ]
    }
   ],
   "source": [
    "i = 111\n",
    "f = 222.222\n",
    "z = 333 + 333j\n",
    "s = 'String'\n",
    "l = [0, 1, 2, 'short', 'list']\n",
    "t = (10, 20, 30)\n",
    "d = {'a':0, 'b':1, 'c':2}\n",
    "c = C()\n",
    "\n",
    "print('i =', i, 'id =', id(i))\n",
    "print('f =', f, 'id =', id(f))\n",
    "print('z =', z, 'id =', id(z))\n",
    "print('s =', s, 'id =', id(s))\n",
    "print('l =', l, 'id =', id(l))\n",
    "print('t =', t, 'id =', id(t))\n",
    "print('d =', d, 'id =', id(d))\n",
    "print('c =', c, 'id =', id(c))\n",
    "\n",
    "i1 = i\n",
    "f1 = f\n",
    "z1 = z\n",
    "s1 = s\n",
    "l1 = l\n",
    "t1 = t\n",
    "d1 = d\n",
    "c1 = c\n",
    "\n",
    "print('i1 =', i1, 'id =', id(i1))\n",
    "print('f1 =', f1, 'id =', id(f1))\n",
    "print('z1 =', z1, 'id =', id(z1))\n",
    "print('s1 =', s1, 'id =', id(s1))\n",
    "print('l1 =', l1, 'id =', id(l1))\n",
    "print('t1 =', t1, 'id =', id(t1))\n",
    "print('d1 =', d1, 'id =', id(d1))\n",
    "print('c1 =', c1, 'id =', id(c1))"
   ]
  },
  {
   "cell_type": "markdown",
   "metadata": {},
   "source": [
    "This behaviour doesn't change when we pass on variables to a function. In fact the function is only called with pointers (unlike in C when using *call by value*):"
   ]
  },
  {
   "cell_type": "code",
   "execution_count": 12,
   "metadata": {},
   "outputs": [
    {
     "name": "stdout",
     "output_type": "stream",
     "text": [
      "inside g:\n",
      "arg 0 = 111 id = 140732174509152\n",
      "arg 1 = 222.222 id = 2786046739280\n",
      "arg 2 = (333+333j) id = 2786046740336\n",
      "arg 3 = String id = 2786006488240\n",
      "arg 4 = [0, 1, 2, 'short', 'list'] id = 2786046720960\n",
      "arg 5 = (10, 20, 30) id = 2786047671424\n",
      "arg 6 = {'a': 0, 'b': 1, 'c': 2} id = 2786046718784\n",
      "arg 7 = <__main__.C object at 0x00000288AD624610> id = 2786047706640\n",
      "inside g:\n",
      "arg 0 = 111 id = 140732174509152\n",
      "arg 1 = 222.222 id = 2786046739280\n",
      "arg 2 = (333+333j) id = 2786046740336\n",
      "arg 3 = String id = 2786006488240\n",
      "arg 4 = [0, 1, 2, 'short', 'list'] id = 2786046720960\n",
      "arg 5 = (10, 20, 30) id = 2786047671424\n",
      "arg 6 = {'a': 0, 'b': 1, 'c': 2} id = 2786046718784\n",
      "arg 7 = <__main__.C object at 0x00000288AD624610> id = 2786047706640\n"
     ]
    }
   ],
   "source": [
    "def g(*para):\n",
    "    print('inside g:')\n",
    "    for i in range(len(para)):\n",
    "        print('arg', i,'=', para[i],'id =', id(para[i]))\n",
    "\n",
    "g(i, f, z, s, l, t, d, c)\n",
    "g(i1,f1,z1,s1,l1,t1,d1,c1)"
   ]
  },
  {
   "cell_type": "markdown",
   "metadata": {},
   "source": [
    "But not only variables are pointers but also its values. For integer and string values this (rather unusual behaviour) can easily be demonstrated:"
   ]
  },
  {
   "cell_type": "code",
   "execution_count": 13,
   "metadata": {},
   "outputs": [
    {
     "name": "stdout",
     "output_type": "stream",
     "text": [
      "111 id = 140732174509152\n",
      "String id = 2786006488240\n"
     ]
    }
   ],
   "source": [
    "print(111, 'id =', id(111))\n",
    "print('String','id =', id('String'))"
   ]
  },
  {
   "cell_type": "markdown",
   "metadata": {},
   "source": [
    "This effectivly means that changing assignments will also lead to new pointers although the variable name does not change:"
   ]
  },
  {
   "cell_type": "code",
   "execution_count": 14,
   "metadata": {},
   "outputs": [
    {
     "name": "stdout",
     "output_type": "stream",
     "text": [
      "k = 111 id = 140732174509152\n",
      "k = 112 id = 140732174509184\n",
      "k = 444 id = 2786046741264\n"
     ]
    }
   ],
   "source": [
    "k = 111\n",
    "print('k =',k, 'id =', id(k))\n",
    "k +=1\n",
    "print('k =',k, 'id =', id(k))\n",
    "k = 444\n",
    "print('k =',k, 'id =', id(k))"
   ]
  },
  {
   "cell_type": "markdown",
   "metadata": {},
   "source": [
    "Please note that the *k = 111* assignment leads to the same memory address as the value *111* and the variables *i* and *i1*. But as soon as k is assigned new values its memory address changes as well.\n",
    "\n",
    "In this respect variables stay independent from each other and do not interfere. However, as soon as we take a look at data consisting of multiple elements and are mutable at the same time we experience some important consequences:"
   ]
  },
  {
   "cell_type": "code",
   "execution_count": 15,
   "metadata": {},
   "outputs": [
    {
     "name": "stdout",
     "output_type": "stream",
     "text": [
      "l1 = [0, 1, 2, 'short', 'list'] id = 2786046720960\n",
      "l2 = [0, 1, 2, 'short', 'list'] id = 2786046720960\n",
      "l1 = [99, 1, 2, 'short', 'list'] id = 2786046720960\n",
      "l2 = [99, 1, 2, 'short', 'list'] id = 2786046720960\n"
     ]
    }
   ],
   "source": [
    "l2 = l1\n",
    "print('l1 =',l1, 'id =', id(l1))\n",
    "print('l2 =',l2, 'id =', id(l2))\n",
    "id_l1_0 = id(l1[0])\n",
    "id_l2_0 = id(l2[0])\n",
    "l1[0] = 99\n",
    "print('l1 =',l1, 'id =', id(l1))\n",
    "print('l2 =',l2, 'id =', id(l2))"
   ]
  },
  {
   "cell_type": "markdown",
   "metadata": {},
   "source": [
    "As we can see the change in list l1 is also visible in l2. They still share the same memory location. But let's take a look at the elements *l1\\[0\\]* and *l2\\[1\\]*:\n",
    "\n",
    "The memory addresses of *l1\\[0\\]*, *l2\\[0\\]* and *0* before the change:"
   ]
  },
  {
   "cell_type": "code",
   "execution_count": 16,
   "metadata": {},
   "outputs": [
    {
     "name": "stdout",
     "output_type": "stream",
     "text": [
      "id(l1[0]) 140732174505600\n",
      "id(l2[0]) 140732174505600\n",
      "id(0) 140732174505600\n"
     ]
    }
   ],
   "source": [
    "print('id(l1[0])', id_l1_0)\n",
    "print('id(l2[0])', id_l2_0)\n",
    "print('id(0)', id(0))"
   ]
  },
  {
   "cell_type": "markdown",
   "metadata": {},
   "source": [
    "Both elements share the same memory address and this is the same as the address of the value *0*. After the change both addresses have changed but are still the same and identical with the value *999*:"
   ]
  },
  {
   "cell_type": "code",
   "execution_count": 17,
   "metadata": {},
   "outputs": [
    {
     "name": "stdout",
     "output_type": "stream",
     "text": [
      "id(l1[0]) 140732174508768\n",
      "id(l2[0]) 140732174508768\n",
      "id(99) 140732174508768\n"
     ]
    }
   ],
   "source": [
    "print('id(l1[0])', id(l1[0]))\n",
    "print('id(l2[0])', id(l2[0]))\n",
    "print('id(99)', id(99))"
   ]
  },
  {
   "cell_type": "markdown",
   "metadata": {},
   "source": [
    "## Iterables, Iterators and Generators\n",
    "\n",
    "A list for example is iterable because we can loop over it (but is not an iterator):"
   ]
  },
  {
   "cell_type": "code",
   "execution_count": 4,
   "metadata": {},
   "outputs": [
    {
     "name": "stdout",
     "output_type": "stream",
     "text": [
      "1\n",
      "2\n",
      "3\n"
     ]
    }
   ],
   "source": [
    "nums = [1, 2, 3]\n",
    "for num in nums:\n",
    "    print(num)"
   ]
  },
  {
   "cell_type": "markdown",
   "metadata": {},
   "source": [
    "We can also loop over tuples, dictionaries, strings, files, generators and all kinds of different objects. But how can we tell if something is iterable? Essentially it needs to support a method called *\\_\\_iter\\_\\_*:"
   ]
  },
  {
   "cell_type": "code",
   "execution_count": 5,
   "metadata": {},
   "outputs": [
    {
     "data": {
      "text/plain": [
       "['__add__',\n",
       " '__class__',\n",
       " '__contains__',\n",
       " '__delattr__',\n",
       " '__delitem__',\n",
       " '__dir__',\n",
       " '__doc__',\n",
       " '__eq__',\n",
       " '__format__',\n",
       " '__ge__',\n",
       " '__getattribute__',\n",
       " '__getitem__',\n",
       " '__gt__',\n",
       " '__hash__',\n",
       " '__iadd__',\n",
       " '__imul__',\n",
       " '__init__',\n",
       " '__init_subclass__',\n",
       " '__iter__',\n",
       " '__le__',\n",
       " '__len__',\n",
       " '__lt__',\n",
       " '__mul__',\n",
       " '__ne__',\n",
       " '__new__',\n",
       " '__reduce__',\n",
       " '__reduce_ex__',\n",
       " '__repr__',\n",
       " '__reversed__',\n",
       " '__rmul__',\n",
       " '__setattr__',\n",
       " '__setitem__',\n",
       " '__sizeof__',\n",
       " '__str__',\n",
       " '__subclasshook__',\n",
       " 'append',\n",
       " 'clear',\n",
       " 'copy',\n",
       " 'count',\n",
       " 'extend',\n",
       " 'index',\n",
       " 'insert',\n",
       " 'pop',\n",
       " 'remove',\n",
       " 'reverse',\n",
       " 'sort']"
      ]
     },
     "execution_count": 5,
     "metadata": {},
     "output_type": "execute_result"
    }
   ],
   "source": [
    "dir(nums)"
   ]
  },
  {
   "cell_type": "markdown",
   "metadata": {},
   "source": [
    "In a loop the  *\\_\\_iter\\_\\_* method is called. This returns an *iterator* that we can loop over. What makes something an *iterator*? An *iterator* is an object with a state so that it remembers where it is during iteration. It also knows how to get its next value. It gets its next value  with a *\\_\\_next\\_\\_* method. When we look at the available list methods above we see that there is no *\\_\\_next\\_\\_* method. Therefore the list has no state and it also does not know how to get its next value. Therefore it isn't an *iterator*:"
   ]
  },
  {
   "cell_type": "code",
   "execution_count": 6,
   "metadata": {},
   "outputs": [
    {
     "ename": "TypeError",
     "evalue": "'list' object is not an iterator",
     "output_type": "error",
     "traceback": [
      "\u001b[0;31m---------------------------------------------------------------------------\u001b[0m",
      "\u001b[0;31mTypeError\u001b[0m                                 Traceback (most recent call last)",
      "\u001b[0;32m<ipython-input-6-ddf9ec797e52>\u001b[0m in \u001b[0;36m<module>\u001b[0;34m\u001b[0m\n\u001b[0;32m----> 1\u001b[0;31m \u001b[0mprint\u001b[0m\u001b[0;34m(\u001b[0m\u001b[0mnext\u001b[0m\u001b[0;34m(\u001b[0m\u001b[0mnums\u001b[0m\u001b[0;34m)\u001b[0m\u001b[0;34m)\u001b[0m\u001b[0;34m\u001b[0m\u001b[0;34m\u001b[0m\u001b[0m\n\u001b[0m",
      "\u001b[0;31mTypeError\u001b[0m: 'list' object is not an iterator"
     ]
    }
   ],
   "source": [
    "print(next(nums))"
   ]
  },
  {
   "cell_type": "markdown",
   "metadata": {},
   "source": [
    "*next(nums)* tries to call the *\\_\\_next\\_\\_* method which is not available for a list. So let's try to convert our list into an iterator (instead of calling the *\\_\\_iter\\_\\_* method we use the *iter* function):"
   ]
  },
  {
   "cell_type": "code",
   "execution_count": 9,
   "metadata": {},
   "outputs": [
    {
     "name": "stdout",
     "output_type": "stream",
     "text": [
      "1\n",
      "2\n",
      "3\n"
     ]
    }
   ],
   "source": [
    "nums = [1, 2, 3]\n",
    "\n",
    "i_nums = iter(nums)\n",
    "\n",
    "while True:\n",
    "    try:\n",
    "        print(next(i_nums))\n",
    "    except StopIteration:\n",
    "        break"
   ]
  },
  {
   "cell_type": "markdown",
   "metadata": {},
   "source": [
    "Please note: There is no going backwards, resetting or making a copy of it. You can only go forward by calling *next*.  When you want to start from scratch you simply create a new iterator object.\n",
    "\n",
    "How can we use this? For example we can create our own class that behaves like the built-in range function:"
   ]
  },
  {
   "cell_type": "code",
   "execution_count": 13,
   "metadata": {},
   "outputs": [
    {
     "name": "stdout",
     "output_type": "stream",
     "text": [
      "1\n",
      "2\n",
      "3\n",
      "4\n",
      "5\n",
      "6\n",
      "7\n",
      "8\n",
      "9\n"
     ]
    }
   ],
   "source": [
    "class MyRange:\n",
    "    \n",
    "    def __init__(self, start, end):\n",
    "        self.value = start\n",
    "        self.end = end\n",
    "        \n",
    "    def __iter__(self):\n",
    "        return self\n",
    "    \n",
    "    def __next__(self):\n",
    "        if self.value >= self.end:\n",
    "            raise StopIteration\n",
    "        current = self.value\n",
    "        self.value += 1\n",
    "        return current\n",
    "\n",
    "nums = MyRange(1, 10)\n",
    "\n",
    "for num in nums:\n",
    "    print(num)"
   ]
  },
  {
   "cell_type": "markdown",
   "metadata": {},
   "source": [
    "*Generators* are very useful for creating easy to read *iterators*. They look a lot like normal functions but instead of returning a result they instead *yield* a value and when they do this they keep that state until the *generator* is run again and yields the next value. So *generators* are *iterators* as well but the *\\_\\_iter\\_\\_* and *\\_\\_next\\_\\_* methods are created automatically:"
   ]
  },
  {
   "cell_type": "code",
   "execution_count": 15,
   "metadata": {},
   "outputs": [
    {
     "name": "stdout",
     "output_type": "stream",
     "text": [
      "1\n",
      "2\n",
      "3\n",
      "4\n",
      "5\n",
      "6\n",
      "7\n",
      "8\n",
      "9\n"
     ]
    }
   ],
   "source": [
    "def my_range(start, end):\n",
    "    current = start\n",
    "    while current < end:\n",
    "        yield current\n",
    "        current += 1\n",
    "\n",
    "nums = my_range(1,10)\n",
    "\n",
    "for num in nums:\n",
    "    print(num)"
   ]
  },
  {
   "cell_type": "markdown",
   "metadata": {},
   "source": [
    "Please note that in the example above the function remains in the while loop and *yields* value after value. As soon as the while loop is finished and the function ends a *StopIteration* is raised (like we expect it from an iterator). But the while loop could also go on forever if the condition is changed from  \n",
    "*current < end* to *True*."
   ]
  }
 ],
 "metadata": {
  "kernelspec": {
   "display_name": "Python 3",
   "language": "python",
   "name": "python3"
  },
  "language_info": {
   "codemirror_mode": {
    "name": "ipython",
    "version": 3
   },
   "file_extension": ".py",
   "mimetype": "text/x-python",
   "name": "python",
   "nbconvert_exporter": "python",
   "pygments_lexer": "ipython3",
   "version": "3.6.9"
  }
 },
 "nbformat": 4,
 "nbformat_minor": 4
}
